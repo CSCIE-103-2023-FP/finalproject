{
 "cells": [
  {
   "cell_type": "code",
   "execution_count": 0,
   "metadata": {
    "application/vnd.databricks.v1+cell": {
     "cellMetadata": {
      "byteLimit": 2048000,
      "rowLimit": 10000
     },
     "inputWidgets": {},
     "nuid": "b6972452-c2f3-4612-93d7-6809861a797c",
     "showTitle": false,
     "title": ""
    }
   },
   "outputs": [],
   "source": [
    "%fs ls /mnt/data/2023-kaggle-final/store-sales/"
   ]
  },
  {
   "cell_type": "code",
   "execution_count": 0,
   "metadata": {
    "application/vnd.databricks.v1+cell": {
     "cellMetadata": {
      "byteLimit": 2048000,
      "rowLimit": 10000
     },
     "inputWidgets": {},
     "nuid": "72cd6878-7eed-4889-8d48-cc49a42a8f10",
     "showTitle": false,
     "title": ""
    }
   },
   "outputs": [],
   "source": []
  },
  {
   "cell_type": "code",
   "execution_count": 0,
   "metadata": {
    "application/vnd.databricks.v1+cell": {
     "cellMetadata": {
      "byteLimit": 2048000,
      "rowLimit": 10000
     },
     "inputWidgets": {},
     "nuid": "ca305302-0f0b-49b6-b7e2-a26542d316b7",
     "showTitle": false,
     "title": ""
    }
   },
   "outputs": [],
   "source": [
    "# Create a Database"
   ]
  },
  {
   "cell_type": "code",
   "execution_count": 0,
   "metadata": {
    "application/vnd.databricks.v1+cell": {
     "cellMetadata": {
      "byteLimit": 2048000,
      "rowLimit": 10000
     },
     "inputWidgets": {},
     "nuid": "e8996c93-24a4-4047-a39d-a04109e93a17",
     "showTitle": false,
     "title": ""
    }
   },
   "outputs": [],
   "source": [
    "import re\n",
    "userName = spark.sql(\"SELECT CURRENT_USER\").collect()[0]['current_user()']\n",
    "userName0 = userName.split(\"@\")[0]\n",
    "userName0 = re.sub('[!#$%&\\'*+-/=?^`{}|\\.]+', '_', userName0)\n",
    "userName1 = userName.split(\"@\")[1]\n",
    "userName = f'{userName0}@{userName1}'\n",
    "dbutils.fs.mkdirs(f\"/Users/{userName}/data\")\n",
    "userDir = f\"/Users/{userName}/data\"\n",
    "databaseName = f\"{userName0}_FinalProject_01\"\n",
    "\n",
    "print('databaseName ' + databaseName)\n",
    "print('UserDir ' + userDir)\n",
    "\n",
    "spark.sql(f\"CREATE DATABASE IF NOT EXISTS {databaseName}\")\n",
    "spark.sql(f\"use {databaseName}\")"
   ]
  },
  {
   "cell_type": "code",
   "execution_count": 0,
   "metadata": {
    "application/vnd.databricks.v1+cell": {
     "cellMetadata": {
      "byteLimit": 2048000,
      "rowLimit": 10000
     },
     "inputWidgets": {},
     "nuid": "24d02510-1270-4c99-8cdb-7478b2fd3504",
     "showTitle": false,
     "title": ""
    }
   },
   "outputs": [],
   "source": [
    "#Create a AutoLoader to load the files from the path"
   ]
  },
  {
   "cell_type": "code",
   "execution_count": 0,
   "metadata": {
    "application/vnd.databricks.v1+cell": {
     "cellMetadata": {
      "byteLimit": 2048000,
      "rowLimit": 10000
     },
     "inputWidgets": {},
     "nuid": "a00fe432-bd82-483d-a32c-f4fa7b670ca8",
     "showTitle": false,
     "title": ""
    }
   },
   "outputs": [],
   "source": [
    "print('UserDir ' + userDir)"
   ]
  },
  {
   "cell_type": "code",
   "execution_count": 0,
   "metadata": {
    "application/vnd.databricks.v1+cell": {
     "cellMetadata": {
      "byteLimit": 2048000,
      "rowLimit": 10000
     },
     "inputWidgets": {},
     "nuid": "739bcf58-b173-4ff3-8408-a9aaf03e6360",
     "showTitle": false,
     "title": ""
    }
   },
   "outputs": [],
   "source": [
    "rawDataSource='/mnt/data/2023-kaggle-final/store-sales'\n",
    "bronzeCheckpoint = f\"{userDir}/bronze_check_point\"\n",
    "bronzeTable = f\"{userDir}/bronze\"\n",
    "bronzeSchema = f\"{userDir}/bronze_schema\""
   ]
  },
  {
   "cell_type": "code",
   "execution_count": 0,
   "metadata": {
    "application/vnd.databricks.v1+cell": {
     "cellMetadata": {
      "byteLimit": 2048000,
      "rowLimit": 10000
     },
     "inputWidgets": {},
     "nuid": "1d40b0f7-fe69-401b-a191-7f51b4e24bba",
     "showTitle": false,
     "title": ""
    }
   },
   "outputs": [],
   "source": [
    "%fs ls /Users/veg940@g.harvard.edu/data/bronze_schema"
   ]
  },
  {
   "cell_type": "code",
   "execution_count": 0,
   "metadata": {
    "application/vnd.databricks.v1+cell": {
     "cellMetadata": {
      "byteLimit": 2048000,
      "rowLimit": 10000
     },
     "inputWidgets": {},
     "nuid": "42455089-caad-4b48-9f69-247868163866",
     "showTitle": false,
     "title": ""
    }
   },
   "outputs": [],
   "source": [
    "%fs ls /Users/veg940@g.harvard.edu/data/bronze_check_point"
   ]
  },
  {
   "cell_type": "code",
   "execution_count": 0,
   "metadata": {
    "application/vnd.databricks.v1+cell": {
     "cellMetadata": {
      "byteLimit": 2048000,
      "rowLimit": 10000
     },
     "inputWidgets": {},
     "nuid": "1749399a-3eec-464d-af81-6693714ad04a",
     "showTitle": false,
     "title": ""
    }
   },
   "outputs": [],
   "source": [
    "import os\n",
    "from pyspark.sql.functions import input_file_name,expr\n",
    "from pyspark.sql.types import ArrayType,IntegerType,StringType"
   ]
  },
  {
   "cell_type": "code",
   "execution_count": 0,
   "metadata": {
    "application/vnd.databricks.v1+cell": {
     "cellMetadata": {
      "byteLimit": 2048000,
      "rowLimit": 10000
     },
     "inputWidgets": {},
     "nuid": "bc91d5d2-f5d4-4ba3-b07e-a2146b8a71e8",
     "showTitle": false,
     "title": ""
    }
   },
   "outputs": [],
   "source": [
    "# Define Autoloader options\n",
    "options = {\n",
    "  \"cloudFiles.useNotifications\": \"true\",\n",
    "  \"cloudFiles.format\": \"csv\",\n",
    "  \"cloudFiles.includeExistingFiles\": \"true\",\n",
    "  \"sep\": \",\",\n",
    "  \"cloudFiles.schemaLocation\": bronzeSchema\n",
    "}\n",
    "#df = spark.readStream.format(\"cloudFiles\").options(**options).load(rawDataSource)\n",
    "# Read CSV files as a streaming DataFrame\n",
    "streaming_df = (\n",
    "    spark.readStream.format(\"cloudFiles\")\n",
    "    .options(**options)\n",
    "    .load(rawDataSource)\n",
    "    .withColumn(\"filename\", input_file_name())\n",
    ")\n"
   ]
  },
  {
   "cell_type": "code",
   "execution_count": 0,
   "metadata": {
    "application/vnd.databricks.v1+cell": {
     "cellMetadata": {
      "byteLimit": 2048000,
      "rowLimit": 10000
     },
     "inputWidgets": {},
     "nuid": "b59d7f07-4fd7-46d2-83bc-f5b3628cdbaa",
     "showTitle": false,
     "title": ""
    }
   },
   "outputs": [],
   "source": [
    "df=streaming_df.writeStream.option(\"path\", bronzeTable).option(\"checkpointLocation\", bronzeCheckpoint).option(\"mergeSchema\", \"true\").table(\"bronzetable\")"
   ]
  },
  {
   "cell_type": "code",
   "execution_count": 0,
   "metadata": {
    "application/vnd.databricks.v1+cell": {
     "cellMetadata": {
      "byteLimit": 2048000,
      "rowLimit": 10000
     },
     "inputWidgets": {},
     "nuid": "231cadb2-7452-4e82-8459-a04ef37af4b8",
     "showTitle": false,
     "title": ""
    }
   },
   "outputs": [],
   "source": [
    "import os\n",
    "from pyspark.sql.functions import input_file_name\n",
    "from pyspark.sql.types import ArrayType,IntegerType,StringType"
   ]
  },
  {
   "cell_type": "code",
   "execution_count": 0,
   "metadata": {
    "application/vnd.databricks.v1+cell": {
     "cellMetadata": {
      "byteLimit": 2048000,
      "rowLimit": 10000
     },
     "inputWidgets": {},
     "nuid": "9e09a369-2272-4d84-902e-2faaea524a7a",
     "showTitle": false,
     "title": ""
    }
   },
   "outputs": [],
   "source": [
    "# load the tables using spark.read as batch for doing null checks, eda and transforming and deduplicates"
   ]
  },
  {
   "cell_type": "code",
   "execution_count": 0,
   "metadata": {
    "application/vnd.databricks.v1+cell": {
     "cellMetadata": {
      "byteLimit": 2048000,
      "rowLimit": 10000
     },
     "inputWidgets": {},
     "nuid": "a086d741-b0a4-4e95-bc37-a9b016618c1b",
     "showTitle": false,
     "title": ""
    }
   },
   "outputs": [],
   "source": [
    "StorefilePath = [('dbfs:/mnt/data/2023-kaggle-final/store-sales/holidays_events.csv', 'holidays_events'),\n",
    "('dbfs:/mnt/data/2023-kaggle-final/store-sales/oil.csv', 'oil'),\n",
    "('dbfs:/mnt/data/2023-kaggle-final/store-sales/sample_submission.csv','sample_submission') ,\n",
    "('dbfs:/mnt/data/2023-kaggle-final/store-sales/stores.csv','stores'),\n",
    "('dbfs:/mnt/data/2023-kaggle-final/store-sales/test.csv','test_set'),\n",
    "('dbfs:/mnt/data/2023-kaggle-final/store-sales/train.csv','train_set'),\n",
    "('dbfs:/mnt/data/2023-kaggle-final/store-sales/transactions.csv','transactions')]\n",
    "\n",
    "for file_name, tab_name in StorefilePath:\n",
    "  StoresDF = (spark.read\n",
    "    .option(\"sep\", \",\")\n",
    "    .option(\"header\", True)\n",
    "    .option(\"inferSchema\", True)\n",
    "    .csv(file_name))\n",
    "  StoresDF.createOrReplaceTempView(tab_name)"
   ]
  },
  {
   "cell_type": "markdown",
   "metadata": {
    "application/vnd.databricks.v1+cell": {
     "cellMetadata": {},
     "inputWidgets": {},
     "nuid": "3cb0e874-7bd8-4f73-8bff-92cefed86d83",
     "showTitle": false,
     "title": ""
    }
   },
   "source": [
    "# Null checks and Handling Nulls by removing null rows."
   ]
  },
  {
   "cell_type": "code",
   "execution_count": 0,
   "metadata": {
    "application/vnd.databricks.v1+cell": {
     "cellMetadata": {
      "byteLimit": 2048000,
      "rowLimit": 10000
     },
     "inputWidgets": {},
     "nuid": "916b1192-6a4f-448e-9bcf-244b9619dd72",
     "showTitle": false,
     "title": ""
    }
   },
   "outputs": [],
   "source": [
    "holiday_events_df = spark.sql(\"SELECT * FROM holidays_events\")\n",
    "display(holiday_events_df)"
   ]
  },
  {
   "cell_type": "code",
   "execution_count": 0,
   "metadata": {
    "application/vnd.databricks.v1+cell": {
     "cellMetadata": {
      "byteLimit": 2048000,
      "rowLimit": 10000
     },
     "inputWidgets": {},
     "nuid": "bc35dc18-6a60-4c82-b6e0-d6a5bba6d9dd",
     "showTitle": false,
     "title": ""
    }
   },
   "outputs": [],
   "source": [
    "# Number of Rows after null were dropped, the entire row will be dropped even if any of the column value is null"
   ]
  },
  {
   "cell_type": "code",
   "execution_count": 0,
   "metadata": {
    "application/vnd.databricks.v1+cell": {
     "cellMetadata": {
      "byteLimit": 2048000,
      "rowLimit": 10000
     },
     "inputWidgets": {},
     "nuid": "e0d0707b-a320-4041-8da2-eb9187151d40",
     "showTitle": false,
     "title": ""
    }
   },
   "outputs": [],
   "source": [
    "holiday_dropna_events_df = holiday_events_df.dropna(\"any\")\n",
    "display(holiday_dropna_events_df)"
   ]
  },
  {
   "cell_type": "code",
   "execution_count": 0,
   "metadata": {
    "application/vnd.databricks.v1+cell": {
     "cellMetadata": {
      "byteLimit": 2048000,
      "rowLimit": 10000
     },
     "inputWidgets": {},
     "nuid": "c601b28a-4891-458b-92e9-45ddd19bdce7",
     "showTitle": false,
     "title": ""
    }
   },
   "outputs": [],
   "source": [
    "oil_df=spark.sql(\"SELECT * FROM oil\")\n",
    "display(oil_df)"
   ]
  },
  {
   "cell_type": "code",
   "execution_count": 0,
   "metadata": {
    "application/vnd.databricks.v1+cell": {
     "cellMetadata": {
      "byteLimit": 2048000,
      "rowLimit": 10000
     },
     "inputWidgets": {},
     "nuid": "3df2fc50-659b-4476-a2b1-ef782f9b27dd",
     "showTitle": false,
     "title": ""
    }
   },
   "outputs": [],
   "source": [
    "oil_dropna_df = oil_df.dropna(\"any\")\n",
    "display(oil_dropna_df)"
   ]
  },
  {
   "cell_type": "code",
   "execution_count": 0,
   "metadata": {
    "application/vnd.databricks.v1+cell": {
     "cellMetadata": {
      "byteLimit": 2048000,
      "rowLimit": 10000
     },
     "inputWidgets": {},
     "nuid": "caee2154-da1c-4873-8617-eaae9b9f9199",
     "showTitle": false,
     "title": ""
    }
   },
   "outputs": [],
   "source": [
    "sample_submission_df = spark.sql(\"SELECT * FROM sample_submission\")\n",
    "display(sample_submission_df)"
   ]
  },
  {
   "cell_type": "code",
   "execution_count": 0,
   "metadata": {
    "application/vnd.databricks.v1+cell": {
     "cellMetadata": {
      "byteLimit": 2048000,
      "rowLimit": 10000
     },
     "inputWidgets": {},
     "nuid": "f871e85c-a753-4a97-b96d-1f53922ad666",
     "showTitle": false,
     "title": ""
    }
   },
   "outputs": [],
   "source": [
    "sample_submission_dropna_df = sample_submission_df.dropna(\"any\")\n",
    "display(sample_submission_dropna_df)"
   ]
  },
  {
   "cell_type": "code",
   "execution_count": 0,
   "metadata": {
    "application/vnd.databricks.v1+cell": {
     "cellMetadata": {
      "byteLimit": 2048000,
      "rowLimit": 10000
     },
     "inputWidgets": {},
     "nuid": "b14de1ad-5815-4987-8715-a8c2d16082d3",
     "showTitle": false,
     "title": ""
    }
   },
   "outputs": [],
   "source": [
    "stores_df = spark.sql(\"SELECT * FROM stores\")\n",
    "display(stores_df)"
   ]
  },
  {
   "cell_type": "code",
   "execution_count": 0,
   "metadata": {
    "application/vnd.databricks.v1+cell": {
     "cellMetadata": {
      "byteLimit": 2048000,
      "rowLimit": 10000
     },
     "inputWidgets": {},
     "nuid": "86d626b2-c4c2-493d-a849-d4fd7a14eca7",
     "showTitle": false,
     "title": ""
    }
   },
   "outputs": [],
   "source": [
    "stores_dropna_df = stores_df.dropna(\"any\")\n",
    "display(stores_dropna_df)\n"
   ]
  },
  {
   "cell_type": "code",
   "execution_count": 0,
   "metadata": {
    "application/vnd.databricks.v1+cell": {
     "cellMetadata": {
      "byteLimit": 2048000,
      "rowLimit": 10000
     },
     "inputWidgets": {},
     "nuid": "2b68ec4c-28a3-4342-badd-6a97ee73cab9",
     "showTitle": false,
     "title": ""
    }
   },
   "outputs": [],
   "source": [
    "test_df = spark.sql(\"SELECT * FROM test_set\")\n",
    "#display(test_df)"
   ]
  },
  {
   "cell_type": "code",
   "execution_count": 0,
   "metadata": {
    "application/vnd.databricks.v1+cell": {
     "cellMetadata": {
      "byteLimit": 2048000,
      "rowLimit": 10000
     },
     "inputWidgets": {},
     "nuid": "8179dc74-142a-4cad-8391-4775e8888096",
     "showTitle": false,
     "title": ""
    }
   },
   "outputs": [],
   "source": [
    "test_dropna_df = test_df.dropna(\"any\")\n",
    "#display(test_dropna_df)"
   ]
  },
  {
   "cell_type": "code",
   "execution_count": 0,
   "metadata": {
    "application/vnd.databricks.v1+cell": {
     "cellMetadata": {
      "byteLimit": 2048000,
      "rowLimit": 10000
     },
     "inputWidgets": {},
     "nuid": "ae26ee1b-9ef7-4994-b6fe-7e3c219d844b",
     "showTitle": false,
     "title": ""
    }
   },
   "outputs": [],
   "source": [
    "train_df = spark.sql(\"SELECT * FROM train_set\")\n",
    "#display(train_df)"
   ]
  },
  {
   "cell_type": "code",
   "execution_count": 0,
   "metadata": {
    "application/vnd.databricks.v1+cell": {
     "cellMetadata": {
      "byteLimit": 2048000,
      "rowLimit": 10000
     },
     "inputWidgets": {},
     "nuid": "fc726178-f186-4a64-bee4-1a0f827b9f64",
     "showTitle": false,
     "title": ""
    }
   },
   "outputs": [],
   "source": [
    "train_dropna_df = train_df.dropna(\"any\")\n",
    "#display(train_dropna_df)"
   ]
  },
  {
   "cell_type": "code",
   "execution_count": 0,
   "metadata": {
    "application/vnd.databricks.v1+cell": {
     "cellMetadata": {
      "byteLimit": 2048000,
      "rowLimit": 10000
     },
     "inputWidgets": {},
     "nuid": "d35c5f1b-f770-44e5-925e-c1f514659ab7",
     "showTitle": false,
     "title": ""
    }
   },
   "outputs": [],
   "source": [
    "transactions_df = spark.sql(\"SELECT * FROM transactions\")\n",
    "display(transactions_df)"
   ]
  },
  {
   "cell_type": "code",
   "execution_count": 0,
   "metadata": {
    "application/vnd.databricks.v1+cell": {
     "cellMetadata": {
      "byteLimit": 2048000,
      "rowLimit": 10000
     },
     "inputWidgets": {},
     "nuid": "adf339fe-ef91-4c84-8b8e-9193f0645469",
     "showTitle": false,
     "title": ""
    }
   },
   "outputs": [],
   "source": [
    "transactions_dropna_df = transactions_df.dropna(\"any\")\n",
    "display(transactions_dropna_df)"
   ]
  },
  {
   "cell_type": "markdown",
   "metadata": {
    "application/vnd.databricks.v1+cell": {
     "cellMetadata": {},
     "inputWidgets": {},
     "nuid": "bd6d8d79-a95a-4430-8ba6-e93d9c5a1561",
     "showTitle": false,
     "title": ""
    }
   },
   "source": [
    "# EDA"
   ]
  },
  {
   "cell_type": "code",
   "execution_count": 0,
   "metadata": {
    "application/vnd.databricks.v1+cell": {
     "cellMetadata": {
      "byteLimit": 2048000,
      "rowLimit": 10000
     },
     "inputWidgets": {},
     "nuid": "f6edab32-4675-44cd-ad50-72bf1c9c5102",
     "showTitle": false,
     "title": ""
    }
   },
   "outputs": [],
   "source": [
    "import seaborn as sns\n",
    "import matplotlib.pyplot as plt\n",
    "pandas_df = train_dropna_df.toPandas()"
   ]
  },
  {
   "cell_type": "markdown",
   "metadata": {
    "application/vnd.databricks.v1+cell": {
     "cellMetadata": {},
     "inputWidgets": {},
     "nuid": "abefe9cd-c016-41b1-9223-fd158898ac1c",
     "showTitle": false,
     "title": ""
    }
   },
   "source": [
    "**Check any correlation exists in train_set**"
   ]
  },
  {
   "cell_type": "code",
   "execution_count": 0,
   "metadata": {
    "application/vnd.databricks.v1+cell": {
     "cellMetadata": {
      "byteLimit": 2048000,
      "rowLimit": 10000
     },
     "inputWidgets": {},
     "nuid": "9b005b40-e596-4e13-aeaf-1a5ef926df89",
     "showTitle": false,
     "title": ""
    }
   },
   "outputs": [],
   "source": [
    "# Correlation Scatter Plot between the features."
   ]
  },
  {
   "cell_type": "code",
   "execution_count": 0,
   "metadata": {
    "application/vnd.databricks.v1+cell": {
     "cellMetadata": {
      "byteLimit": 2048000,
      "rowLimit": 10000
     },
     "inputWidgets": {},
     "nuid": "93500f71-ab06-4096-b80e-71a483302877",
     "showTitle": false,
     "title": ""
    }
   },
   "outputs": [],
   "source": [
    "sns.pairplot(pandas_df)\n",
    "plt.show()"
   ]
  },
  {
   "cell_type": "markdown",
   "metadata": {
    "application/vnd.databricks.v1+cell": {
     "cellMetadata": {},
     "inputWidgets": {},
     "nuid": "5cbd68af-3125-46c3-8070-8db16c24c168",
     "showTitle": false,
     "title": ""
    }
   },
   "source": [
    "We could observe there is a relationship exists between on promotion predictor and sales (target variable) and observed one or two outliers"
   ]
  },
  {
   "cell_type": "markdown",
   "metadata": {
    "application/vnd.databricks.v1+cell": {
     "cellMetadata": {},
     "inputWidgets": {},
     "nuid": "2ebd8640-7b22-4e67-82ba-e0b51c85e3eb",
     "showTitle": false,
     "title": ""
    }
   },
   "source": [
    "**2. Check any impact on oil price with target variable(sales)**"
   ]
  },
  {
   "cell_type": "code",
   "execution_count": 0,
   "metadata": {
    "application/vnd.databricks.v1+cell": {
     "cellMetadata": {
      "byteLimit": 2048000,
      "rowLimit": 10000
     },
     "inputWidgets": {},
     "nuid": "5d643b69-a4db-4ec3-a6d5-4cb77325ceac",
     "showTitle": false,
     "title": ""
    }
   },
   "outputs": [],
   "source": [
    "display(oil_dropna_df)"
   ]
  },
  {
   "cell_type": "code",
   "execution_count": 0,
   "metadata": {
    "application/vnd.databricks.v1+cell": {
     "cellMetadata": {
      "byteLimit": 2048000,
      "rowLimit": 10000
     },
     "inputWidgets": {},
     "nuid": "3b19ac34-0be8-4c86-b625-7fa30e426c5d",
     "showTitle": false,
     "title": ""
    }
   },
   "outputs": [],
   "source": [
    "# Merging Oil Price DF with Train DataSEt"
   ]
  },
  {
   "cell_type": "code",
   "execution_count": 0,
   "metadata": {
    "application/vnd.databricks.v1+cell": {
     "cellMetadata": {
      "byteLimit": 2048000,
      "rowLimit": 10000
     },
     "inputWidgets": {},
     "nuid": "40dd6742-3f6c-4083-812d-983d517f6fbc",
     "showTitle": false,
     "title": ""
    }
   },
   "outputs": [],
   "source": [
    "from pyspark.sql.functions import col\n",
    "from pyspark.sql.functions import when"
   ]
  },
  {
   "cell_type": "code",
   "execution_count": 0,
   "metadata": {
    "application/vnd.databricks.v1+cell": {
     "cellMetadata": {
      "byteLimit": 2048000,
      "rowLimit": 10000
     },
     "inputWidgets": {},
     "nuid": "11089572-a80d-44b1-aff4-1c9ed4d0eb65",
     "showTitle": false,
     "title": ""
    }
   },
   "outputs": [],
   "source": [
    "# Convert string date column to date type\n",
    "df1 = oil_df.withColumn(\"date\", col(\"date\").cast(\"date\"))\n",
    "df2 = train_df.withColumn(\"date\", col(\"date\").cast(\"date\"))\n",
    "\n",
    "# Joining DataFrames on the 'date' column\n",
    "joined_df = df1.join(df2, on='date', how='inner')\n",
    "\n",
    "# Display the joined DataFrame\n",
    "joined_df.show()"
   ]
  },
  {
   "cell_type": "code",
   "execution_count": 0,
   "metadata": {
    "application/vnd.databricks.v1+cell": {
     "cellMetadata": {
      "byteLimit": 2048000,
      "rowLimit": 10000
     },
     "inputWidgets": {},
     "nuid": "e2c33c68-5485-41ad-a397-ebe45f580b0a",
     "showTitle": false,
     "title": ""
    }
   },
   "outputs": [],
   "source": [
    "# Scatter Plot between Sales and Oil Price "
   ]
  },
  {
   "cell_type": "code",
   "execution_count": 0,
   "metadata": {
    "application/vnd.databricks.v1+cell": {
     "cellMetadata": {
      "byteLimit": 2048000,
      "rowLimit": 10000
     },
     "inputWidgets": {},
     "nuid": "06444eee-21e6-4448-87f6-84c11ffc292c",
     "showTitle": false,
     "title": ""
    }
   },
   "outputs": [],
   "source": [
    "# Collect the data for the two columns\n",
    "data_to_plot = joined_df.select('sales', 'dcoilwtico').collect()\n",
    "\n",
    "# Extract values for plotting\n",
    "x = [row['dcoilwtico'] for row in data_to_plot]\n",
    "y = [row['sales'] for row in data_to_plot]\n",
    "\n",
    "# Plotting a scatter plot using Matplotlib\n",
    "plt.scatter(x, y)\n",
    "plt.xlabel('Oil Price')\n",
    "plt.ylabel('Sales')\n",
    "plt.title('Scatter Plot between Oil Price and Sales')\n",
    "plt.show()"
   ]
  },
  {
   "cell_type": "markdown",
   "metadata": {
    "application/vnd.databricks.v1+cell": {
     "cellMetadata": {},
     "inputWidgets": {},
     "nuid": "3ac076e8-572f-44da-9bb8-ac29f06a5467",
     "showTitle": false,
     "title": ""
    }
   },
   "source": [
    "Analysis: As the oil price increases, the sales havent increased.<br>\n",
    "Observed 1 outlier,  that might skew the data and might impact modeling."
   ]
  },
  {
   "cell_type": "code",
   "execution_count": 0,
   "metadata": {
    "application/vnd.databricks.v1+cell": {
     "cellMetadata": {
      "byteLimit": 2048000,
      "rowLimit": 10000
     },
     "inputWidgets": {},
     "nuid": "37627baa-456f-457e-bf5c-e43881b48948",
     "showTitle": false,
     "title": ""
    }
   },
   "outputs": [],
   "source": [
    "# Data Transformation"
   ]
  },
  {
   "cell_type": "code",
   "execution_count": 0,
   "metadata": {
    "application/vnd.databricks.v1+cell": {
     "cellMetadata": {
      "byteLimit": 2048000,
      "rowLimit": 10000
     },
     "inputWidgets": {},
     "nuid": "951a34d6-fc93-4ee8-a0aa-be78af3b9082",
     "showTitle": false,
     "title": ""
    }
   },
   "outputs": [],
   "source": [
    "joined_df.createTempView(\"train_with_oilprice\")"
   ]
  }
 ],
 "metadata": {
  "application/vnd.databricks.v1+notebook": {
   "dashboards": [],
   "language": "python",
   "notebookMetadata": {
    "mostRecentlyExecutedCommandWithImplicitDF": {
     "commandId": 1179881668947745,
     "dataframes": [
      "_sqldf"
     ]
    },
    "pythonIndentUnit": 2
   },
   "notebookName": "Bronze_Venkatesh",
   "widgets": {}
  }
 },
 "nbformat": 4,
 "nbformat_minor": 0
}
