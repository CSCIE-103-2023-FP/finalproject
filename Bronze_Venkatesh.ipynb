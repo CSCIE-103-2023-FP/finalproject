{
 "cells": [
  {
   "cell_type": "code",
   "execution_count": 0,
   "metadata": {
    "application/vnd.databricks.v1+cell": {
     "cellMetadata": {
      "byteLimit": 2048000,
      "rowLimit": 10000
     },
     "inputWidgets": {},
     "nuid": "39645217-81ab-439c-8635-7c31b7f72c09",
     "showTitle": false,
     "title": ""
    }
   },
   "outputs": [],
   "source": [
    "%fs ls /mnt/g5/landingzone/"
   ]
  },
  {
   "cell_type": "code",
   "execution_count": 0,
   "metadata": {
    "application/vnd.databricks.v1+cell": {
     "cellMetadata": {
      "byteLimit": 2048000,
      "rowLimit": 10000
     },
     "inputWidgets": {},
     "nuid": "ca305302-0f0b-49b6-b7e2-a26542d316b7",
     "showTitle": false,
     "title": ""
    }
   },
   "outputs": [],
   "source": [
    "# Create a Database"
   ]
  },
  {
   "cell_type": "code",
   "execution_count": 0,
   "metadata": {
    "application/vnd.databricks.v1+cell": {
     "cellMetadata": {
      "byteLimit": 2048000,
      "rowLimit": 10000
     },
     "inputWidgets": {},
     "nuid": "e8996c93-24a4-4047-a39d-a04109e93a17",
     "showTitle": false,
     "title": ""
    }
   },
   "outputs": [],
   "source": [
    "import re\n",
    "userName = spark.sql(\"SELECT CURRENT_USER\").collect()[0]['current_user()']\n",
    "userName0 = userName.split(\"@\")[0]\n",
    "userName0 = re.sub('[!#$%&\\'*+-/=?^`{}|\\.]+', '_', userName0)\n",
    "userName1 = userName.split(\"@\")[1]\n",
    "userName = f'{userName0}@{userName1}'\n",
    "dbutils.fs.mkdirs(f\"/Users/{userName}/data\")\n",
    "userDir = f\"/Users/{userName}/data\"\n",
    "databaseName = f\"{userName0}_FinalProject_01\"\n",
    "\n",
    "print('databaseName ' + databaseName)\n",
    "print('UserDir ' + userDir)\n",
    "\n",
    "spark.sql(f\"CREATE DATABASE IF NOT EXISTS {databaseName}\")\n",
    "spark.sql(f\"use {databaseName}\")"
   ]
  },
  {
   "cell_type": "code",
   "execution_count": 0,
   "metadata": {
    "application/vnd.databricks.v1+cell": {
     "cellMetadata": {
      "byteLimit": 2048000,
      "rowLimit": 10000
     },
     "inputWidgets": {},
     "nuid": "24d02510-1270-4c99-8cdb-7478b2fd3504",
     "showTitle": false,
     "title": ""
    }
   },
   "outputs": [],
   "source": [
    "#Create a AutoLoader to load the files from the path"
   ]
  },
  {
   "cell_type": "code",
   "execution_count": 0,
   "metadata": {
    "application/vnd.databricks.v1+cell": {
     "cellMetadata": {
      "byteLimit": 2048000,
      "rowLimit": 10000
     },
     "inputWidgets": {},
     "nuid": "a00fe432-bd82-483d-a32c-f4fa7b670ca8",
     "showTitle": false,
     "title": ""
    }
   },
   "outputs": [],
   "source": [
    "print('UserDir ' + userDir)"
   ]
  },
  {
   "cell_type": "code",
   "execution_count": 0,
   "metadata": {
    "application/vnd.databricks.v1+cell": {
     "cellMetadata": {
      "byteLimit": 2048000,
      "rowLimit": 10000
     },
     "inputWidgets": {},
     "nuid": "739bcf58-b173-4ff3-8408-a9aaf03e6360",
     "showTitle": false,
     "title": ""
    }
   },
   "outputs": [],
   "source": [
    "rawDataSource='/mnt/g5/landingzone'\n",
    "bronzeCheckpoint = f\"{userDir}/bronze_check_point\"\n",
    "bronzeTable = f\"{userDir}/bronze\"\n",
    "bronzeSchema = f\"{userDir}/bronze_schema\"\n",
    "bronze_delta_path='/mnt/g5/bronze/'"
   ]
  },
  {
   "cell_type": "code",
   "execution_count": 0,
   "metadata": {
    "application/vnd.databricks.v1+cell": {
     "cellMetadata": {
      "byteLimit": 2048000,
      "rowLimit": 10000
     },
     "inputWidgets": {},
     "nuid": "1d40b0f7-fe69-401b-a191-7f51b4e24bba",
     "showTitle": false,
     "title": ""
    }
   },
   "outputs": [],
   "source": [
    "%fs ls /Users/veg940@g.harvard.edu/data/bronze_schema"
   ]
  },
  {
   "cell_type": "markdown",
   "metadata": {
    "application/vnd.databricks.v1+cell": {
     "cellMetadata": {},
     "inputWidgets": {},
     "nuid": "4cb0bff9-358c-46dc-b314-9a2904ecbe1c",
     "showTitle": false,
     "title": ""
    }
   },
   "source": [
    "## Load Data from Landing Zone to Bronze Delta Path"
   ]
  },
  {
   "cell_type": "code",
   "execution_count": 0,
   "metadata": {
    "application/vnd.databricks.v1+cell": {
     "cellMetadata": {
      "byteLimit": 2048000,
      "rowLimit": 10000
     },
     "inputWidgets": {},
     "nuid": "1749399a-3eec-464d-af81-6693714ad04a",
     "showTitle": false,
     "title": ""
    }
   },
   "outputs": [],
   "source": [
    "import os\n",
    "from pyspark.sql.functions import input_file_name,expr\n",
    "from pyspark.sql.types import ArrayType,IntegerType,StringType"
   ]
  },
  {
   "cell_type": "markdown",
   "metadata": {
    "application/vnd.databricks.v1+cell": {
     "cellMetadata": {
      "byteLimit": 2048000,
      "rowLimit": 10000
     },
     "inputWidgets": {},
     "nuid": "09559f1e-9812-41c4-b626-f9fc68290b80",
     "showTitle": false,
     "title": ""
    }
   },
   "source": [
    "**Store_Sales Data Load in to Bronze Layer**"
   ]
  },
  {
   "cell_type": "code",
   "execution_count": 0,
   "metadata": {
    "application/vnd.databricks.v1+cell": {
     "cellMetadata": {
      "byteLimit": 2048000,
      "rowLimit": 10000
     },
     "inputWidgets": {},
     "nuid": "6d9ff3ed-199f-4576-98a7-4dfdfa9ff6e5",
     "showTitle": false,
     "title": ""
    }
   },
   "outputs": [],
   "source": [
    "schema_store_sales = spark.read.format(\"csv\").option(\"inferSchema\", True).option(\"header\", \"true\").load(f\"{rawDataSource}/store_sales.csv\").schema"
   ]
  },
  {
   "cell_type": "code",
   "execution_count": 0,
   "metadata": {
    "application/vnd.databricks.v1+cell": {
     "cellMetadata": {
      "byteLimit": 2048000,
      "rowLimit": 10000
     },
     "inputWidgets": {},
     "nuid": "3906e170-b5c8-4767-9b22-b5f793ede334",
     "showTitle": false,
     "title": ""
    }
   },
   "outputs": [],
   "source": [
    "schema_store_sales"
   ]
  },
  {
   "cell_type": "code",
   "execution_count": 0,
   "metadata": {
    "application/vnd.databricks.v1+cell": {
     "cellMetadata": {
      "byteLimit": 2048000,
      "rowLimit": 10000
     },
     "inputWidgets": {},
     "nuid": "bc91d5d2-f5d4-4ba3-b07e-a2146b8a71e8",
     "showTitle": false,
     "title": ""
    }
   },
   "outputs": [],
   "source": [
    "df = spark.readStream.format(\"cloudFiles\") \\\n",
    "  .option(\"cloudFiles.format\", \"csv\") \\\n",
    "  .option(\"pathGlobFilter\", \"*store_sales*.csv\") \\\n",
    "  .option(\"header\", True) \\\n",
    "  .schema(schema_store_sales) \\\n",
    "  .load(f\"{rawDataSource}\") \\\n",
    "  #.withColumn(\"filename\",input_file_name())"
   ]
  },
  {
   "cell_type": "code",
   "execution_count": 0,
   "metadata": {
    "application/vnd.databricks.v1+cell": {
     "cellMetadata": {
      "byteLimit": 2048000,
      "rowLimit": 10000
     },
     "inputWidgets": {},
     "nuid": "c97b4ec5-2852-416e-887b-30fb97c13df0",
     "showTitle": false,
     "title": ""
    }
   },
   "outputs": [],
   "source": [
    "display(df)"
   ]
  },
  {
   "cell_type": "code",
   "execution_count": 0,
   "metadata": {
    "application/vnd.databricks.v1+cell": {
     "cellMetadata": {
      "byteLimit": 2048000,
      "rowLimit": 10000
     },
     "inputWidgets": {},
     "nuid": "56f5085d-16d8-4b6b-ad4a-7423bcb74444",
     "showTitle": false,
     "title": ""
    }
   },
   "outputs": [],
   "source": [
    "stores_sales_checkpoint_location = f\"{bronzeCheckpoint}/stores_sales\"\n",
    "bronze_stores_sales_deltapath='/mnt/g5/bronze/stores_sales'\n",
    "dbutils.fs.rm(stores_sales_checkpoint_location, True) #reset checkpoint so it reloads the file\n",
    "df.writeStream.option(\"path\", bronze_stores_sales_deltapath).outputMode(\"append\").format(\"delta\").option(\"checkpointLocation\", stores_sales_checkpoint_location).option(\"mergeSchema\", \"true\").table(\"stores_sales\")"
   ]
  },
  {
   "cell_type": "code",
   "execution_count": 0,
   "metadata": {
    "application/vnd.databricks.v1+cell": {
     "cellMetadata": {
      "byteLimit": 2048000,
      "implicitDf": true,
      "rowLimit": 10000
     },
     "inputWidgets": {},
     "nuid": "60e8dfc1-205a-4e0d-af2c-5962870a9e2f",
     "showTitle": false,
     "title": ""
    }
   },
   "outputs": [],
   "source": [
    "%sql\n",
    "SELECT * FROM stores_sales"
   ]
  },
  {
   "cell_type": "markdown",
   "metadata": {
    "application/vnd.databricks.v1+cell": {
     "cellMetadata": {},
     "inputWidgets": {},
     "nuid": "12daaf20-b7ac-4676-a26a-edc224342eb6",
     "showTitle": false,
     "title": ""
    }
   },
   "source": [
    "**Oil Prices Data Load in to Bronze Layer**"
   ]
  },
  {
   "cell_type": "code",
   "execution_count": 0,
   "metadata": {
    "application/vnd.databricks.v1+cell": {
     "cellMetadata": {
      "byteLimit": 2048000,
      "rowLimit": 10000
     },
     "inputWidgets": {},
     "nuid": "d5f788fa-4fb5-4385-9c64-f6c6e1911b28",
     "showTitle": false,
     "title": ""
    }
   },
   "outputs": [],
   "source": [
    "schema_oilprices = spark.read.format(\"csv\").option(\"inferSchema\", True).option(\"header\", \"true\").load(f\"{rawDataSource}/oil_prices.csv\").schema"
   ]
  },
  {
   "cell_type": "code",
   "execution_count": 0,
   "metadata": {
    "application/vnd.databricks.v1+cell": {
     "cellMetadata": {
      "byteLimit": 2048000,
      "rowLimit": 10000
     },
     "inputWidgets": {},
     "nuid": "36243fd2-958d-4312-885e-f105d44e1766",
     "showTitle": false,
     "title": ""
    }
   },
   "outputs": [],
   "source": [
    "oil_prices_df = spark.readStream.format(\"cloudFiles\") \\\n",
    "  .option(\"cloudFiles.format\", \"csv\") \\\n",
    "  .option(\"pathGlobFilter\", \"*oil_prices*.csv\") \\\n",
    "  .option(\"header\", True) \\\n",
    "  .schema(schema_oilprices) \\\n",
    "  .load(f\"{rawDataSource}\") \\\n",
    "  #.withColumn(\"filename\",input_file_name())"
   ]
  },
  {
   "cell_type": "code",
   "execution_count": 0,
   "metadata": {
    "application/vnd.databricks.v1+cell": {
     "cellMetadata": {
      "byteLimit": 2048000,
      "rowLimit": 10000
     },
     "inputWidgets": {},
     "nuid": "725322fc-cdf3-4a0f-bfdf-bbf5a2c28b88",
     "showTitle": false,
     "title": ""
    }
   },
   "outputs": [],
   "source": [
    "oil_prices_checkpoint_location = f\"{bronzeCheckpoint}/oil_prices\"\n",
    "bronze_oil_prices_deltapath='/mnt/g5/bronze/oil_prices'\n",
    "dbutils.fs.rm(oil_prices_checkpoint_location, True) #reset checkpoint so it reloads the file\n",
    "oil_prices_df.writeStream.option(\"path\", bronze_oil_prices_deltapath).outputMode(\"append\").format(\"delta\").option(\"checkpointLocation\", oil_prices_checkpoint_location).option(\"mergeSchema\", \"true\").table(\"oil_prices\")"
   ]
  },
  {
   "cell_type": "code",
   "execution_count": 0,
   "metadata": {
    "application/vnd.databricks.v1+cell": {
     "cellMetadata": {
      "byteLimit": 2048000,
      "rowLimit": 10000
     },
     "inputWidgets": {},
     "nuid": "bf7919b9-bb5a-47ce-8892-d8d5417037b3",
     "showTitle": false,
     "title": ""
    }
   },
   "outputs": [],
   "source": [
    "display(oil_prices_df)"
   ]
  },
  {
   "cell_type": "code",
   "execution_count": 0,
   "metadata": {
    "application/vnd.databricks.v1+cell": {
     "cellMetadata": {
      "byteLimit": 2048000,
      "implicitDf": true,
      "rowLimit": 10000
     },
     "inputWidgets": {},
     "nuid": "c6b47018-9329-427d-83e1-1cff281520d6",
     "showTitle": false,
     "title": ""
    }
   },
   "outputs": [],
   "source": [
    "%sql\n",
    "SELECT * FROM oil_prices"
   ]
  },
  {
   "cell_type": "markdown",
   "metadata": {
    "application/vnd.databricks.v1+cell": {
     "cellMetadata": {},
     "inputWidgets": {},
     "nuid": "133e564c-80d7-49dc-8c2d-ef363b715115",
     "showTitle": false,
     "title": ""
    }
   },
   "source": [
    "**Store Master Data Load in to Bronze Layer**"
   ]
  },
  {
   "cell_type": "code",
   "execution_count": 0,
   "metadata": {
    "application/vnd.databricks.v1+cell": {
     "cellMetadata": {
      "byteLimit": 2048000,
      "rowLimit": 10000
     },
     "inputWidgets": {},
     "nuid": "b8fc6024-61d1-4c6f-b33b-90d391292461",
     "showTitle": false,
     "title": ""
    }
   },
   "outputs": [],
   "source": [
    "schema_store_master = spark.read.format(\"csv\").option(\"inferSchema\", True).option(\"header\", \"true\").load(f\"{rawDataSource}/store_master.csv\").schema"
   ]
  },
  {
   "cell_type": "code",
   "execution_count": 0,
   "metadata": {
    "application/vnd.databricks.v1+cell": {
     "cellMetadata": {
      "byteLimit": 2048000,
      "rowLimit": 10000
     },
     "inputWidgets": {},
     "nuid": "eaefbfd6-a1be-4d9c-b0ae-74fe631d2b5a",
     "showTitle": false,
     "title": ""
    }
   },
   "outputs": [],
   "source": [
    "store_master_df = spark.readStream.format(\"cloudFiles\") \\\n",
    "  .option(\"cloudFiles.format\", \"csv\") \\\n",
    "  .option(\"pathGlobFilter\", \"*store_master*.csv\") \\\n",
    "  .option(\"header\", True) \\\n",
    "  .schema(schema_store_master) \\\n",
    "  .load(f\"{rawDataSource}\") \\\n",
    "  #.withColumn(\"filename\",input_file_name())"
   ]
  },
  {
   "cell_type": "code",
   "execution_count": 0,
   "metadata": {
    "application/vnd.databricks.v1+cell": {
     "cellMetadata": {
      "byteLimit": 2048000,
      "rowLimit": 10000
     },
     "inputWidgets": {},
     "nuid": "5aa5e866-eb89-4af2-993b-ad2857d3a59b",
     "showTitle": false,
     "title": ""
    }
   },
   "outputs": [],
   "source": [
    "display(store_master_df)"
   ]
  },
  {
   "cell_type": "code",
   "execution_count": 0,
   "metadata": {
    "application/vnd.databricks.v1+cell": {
     "cellMetadata": {
      "byteLimit": 2048000,
      "rowLimit": 10000
     },
     "inputWidgets": {},
     "nuid": "5d0a1988-5367-4d15-aa8c-0d9098ad96c0",
     "showTitle": false,
     "title": ""
    }
   },
   "outputs": [],
   "source": [
    "store_master_checkpoint_location = f\"{bronzeCheckpoint}/store_master\"\n",
    "bronze_store_master_deltapath='/mnt/g5/bronze/store_master'\n",
    "if dbutils.fs.rm(bronze_store_master_deltapath, True):\n",
    "  print(f\"{bronze_store_master_deltapath} directory deleted...\")\n",
    "dbutils.fs.rm(store_master_checkpoint_location, True) #reset checkpoint so it reloads the file\n",
    "store_master_df.writeStream.option(\"path\", bronze_store_master_deltapath).outputMode(\"append\").format(\"delta\").option(\"checkpointLocation\", store_master_checkpoint_location).option(\"mergeSchema\", \"true\").table(\"store_master\")"
   ]
  },
  {
   "cell_type": "code",
   "execution_count": 0,
   "metadata": {
    "application/vnd.databricks.v1+cell": {
     "cellMetadata": {
      "byteLimit": 2048000,
      "implicitDf": true,
      "rowLimit": 10000
     },
     "inputWidgets": {},
     "nuid": "ef6159e6-99d1-406a-9b44-d343bd1a6757",
     "showTitle": false,
     "title": ""
    }
   },
   "outputs": [],
   "source": [
    "%sql\n",
    "SELECT * FROM store_master"
   ]
  },
  {
   "cell_type": "markdown",
   "metadata": {
    "application/vnd.databricks.v1+cell": {
     "cellMetadata": {},
     "inputWidgets": {},
     "nuid": "de8b4fe5-eb22-4b93-87a9-eb37337980fd",
     "showTitle": false,
     "title": ""
    }
   },
   "source": [
    "**Holiday Events Data Load in to Bronze Layer**"
   ]
  },
  {
   "cell_type": "code",
   "execution_count": 0,
   "metadata": {
    "application/vnd.databricks.v1+cell": {
     "cellMetadata": {
      "byteLimit": 2048000,
      "rowLimit": 10000
     },
     "inputWidgets": {},
     "nuid": "a3bbc8e6-f873-4657-a249-e8067f9e18d5",
     "showTitle": false,
     "title": ""
    }
   },
   "outputs": [],
   "source": [
    "schema_holiday_events = spark.read.format(\"csv\").option(\"inferSchema\", True).option(\"header\", \"true\").load(f\"{rawDataSource}/holiday_events.csv\").schema"
   ]
  },
  {
   "cell_type": "code",
   "execution_count": 0,
   "metadata": {
    "application/vnd.databricks.v1+cell": {
     "cellMetadata": {
      "byteLimit": 2048000,
      "rowLimit": 10000
     },
     "inputWidgets": {},
     "nuid": "958cf8b3-0734-4238-b42a-0f9e036484d1",
     "showTitle": false,
     "title": ""
    }
   },
   "outputs": [],
   "source": [
    "holiday_events_df = spark.readStream.format(\"cloudFiles\") \\\n",
    "  .option(\"cloudFiles.format\", \"csv\") \\\n",
    "  .option(\"pathGlobFilter\", \"*holiday_events*.csv\") \\\n",
    "  .option(\"header\", True) \\\n",
    "  .schema(schema_holiday_events) \\\n",
    "  .load(f\"{rawDataSource}\") \\\n",
    "  #.withColumn(\"filename\",input_file_name())"
   ]
  },
  {
   "cell_type": "code",
   "execution_count": 0,
   "metadata": {
    "application/vnd.databricks.v1+cell": {
     "cellMetadata": {
      "byteLimit": 2048000,
      "rowLimit": 10000
     },
     "inputWidgets": {},
     "nuid": "cbf2d33b-9cd8-48ad-8657-df6980746f8f",
     "showTitle": false,
     "title": ""
    }
   },
   "outputs": [],
   "source": [
    "holiday_events_checkpoint_location = f\"{bronzeCheckpoint}/holiday_events\"\n",
    "bronze_holiday_events_deltapath='/mnt/g5/bronze/holiday_events'\n",
    "dbutils.fs.rm(holiday_events_checkpoint_location, True) #reset checkpoint so it reloads the file\n",
    "holiday_events_df.writeStream.option(\"path\", bronze_holiday_events_deltapath).outputMode(\"append\").format(\"delta\").option(\"checkpointLocation\", holiday_events_checkpoint_location).option(\"mergeSchema\", \"true\").table(\"holiday_events\")"
   ]
  },
  {
   "cell_type": "code",
   "execution_count": 0,
   "metadata": {
    "application/vnd.databricks.v1+cell": {
     "cellMetadata": {
      "byteLimit": 2048000,
      "implicitDf": true,
      "rowLimit": 10000
     },
     "inputWidgets": {},
     "nuid": "4adbc088-fabd-47f1-9404-a377b6a1144e",
     "showTitle": false,
     "title": ""
    }
   },
   "outputs": [],
   "source": [
    "%sql\n",
    "SELECT * FROM holiday_events"
   ]
  }
 ],
 "metadata": {
  "application/vnd.databricks.v1+notebook": {
   "dashboards": [],
   "language": "python",
   "notebookMetadata": {
    "mostRecentlyExecutedCommandWithImplicitDF": {
     "commandId": 1179881668958260,
     "dataframes": [
      "_sqldf"
     ]
    },
    "pythonIndentUnit": 2
   },
   "notebookName": "Bronze_Venkatesh",
   "widgets": {}
  }
 },
 "nbformat": 4,
 "nbformat_minor": 0
}
