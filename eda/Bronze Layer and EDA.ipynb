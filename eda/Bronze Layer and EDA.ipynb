{
 "cells": [
  {
   "cell_type": "markdown",
   "metadata": {
    "application/vnd.databricks.v1+cell": {
     "cellMetadata": {},
     "inputWidgets": {},
     "nuid": "3b0881a1-8acf-4a81-8c60-a1d1a20758c8",
     "showTitle": false,
     "title": ""
    }
   },
   "source": [
    "#Create a Database"
   ]
  },
  {
   "cell_type": "code",
   "execution_count": 0,
   "metadata": {
    "application/vnd.databricks.v1+cell": {
     "cellMetadata": {
      "byteLimit": 2048000,
      "rowLimit": 10000
     },
     "inputWidgets": {},
     "nuid": "51c5a28f-ee6a-4b9f-baf2-9c2ae2e7dd82",
     "showTitle": false,
     "title": ""
    }
   },
   "outputs": [],
   "source": [
    "import re\n",
    "userName = spark.sql(\"SELECT CURRENT_USER\").collect()[0]['current_user()']\n",
    "userName0 = userName.split(\"@\")[0]\n",
    "userName0 = re.sub('[!#$%&\\'*+-/=?^`{}|\\.]+', '_', userName0)\n",
    "userName1 = userName.split(\"@\")[1]\n",
    "userName = f'{userName0}@{userName1}'\n",
    "dbutils.fs.mkdirs(f\"/Users/{userName}/data\")\n",
    "userDir = f\"/Users/{userName}/data\"\n",
    "databaseName = f\"{userName0}_FinalProject_01\"\n",
    "\n",
    "print('databaseName ' + databaseName)\n",
    "print('UserDir ' + userDir)\n",
    "\n",
    "spark.sql(f\"DROP DATABASE IF EXISTS {databaseName} CASCADE\")\n",
    "spark.sql(f\"CREATE DATABASE {databaseName}\")\n",
    "spark.sql(f\"use {databaseName}\")\n",
    "\n",
    "print (f\"Database {databaseName} successfully rebuilt.\")"
   ]
  },
  {
   "cell_type": "markdown",
   "metadata": {
    "application/vnd.databricks.v1+cell": {
     "cellMetadata": {},
     "inputWidgets": {},
     "nuid": "33215260-b50a-487e-af2f-757ce83e43ce",
     "showTitle": false,
     "title": ""
    }
   },
   "source": [
    "# Data Load from landingzone path to bronze layer"
   ]
  },
  {
   "cell_type": "code",
   "execution_count": 0,
   "metadata": {
    "application/vnd.databricks.v1+cell": {
     "cellMetadata": {
      "byteLimit": 2048000,
      "rowLimit": 10000
     },
     "inputWidgets": {},
     "nuid": "0caf3c8b-b79c-497b-8847-d179fd067fd7",
     "showTitle": false,
     "title": ""
    }
   },
   "outputs": [],
   "source": [
    "rootPath = \"/mnt/g5/landingzone/\"\n",
    "all_items = dbutils.fs.ls(rootPath)\n",
    "files_only = [item for item in all_items if item.isDir() == False]\n",
    "files_only"
   ]
  },
  {
   "cell_type": "code",
   "execution_count": 0,
   "metadata": {
    "application/vnd.databricks.v1+cell": {
     "cellMetadata": {
      "byteLimit": 2048000,
      "rowLimit": 10000
     },
     "inputWidgets": {},
     "nuid": "cd86f6c4-f7db-41d0-bdfa-340371ac5ecb",
     "showTitle": false,
     "title": ""
    }
   },
   "outputs": [],
   "source": [
    "for file in files_only:\n",
    "  tableName = \"bronze_\" + file.name.replace('.csv', '')\n",
    "  print (f\"processing file {file.name} into table name {tableName}...\")\n",
    "\n",
    "  loadDf = spark.read.option(\"header\", True).option(\"inferSchema\", True).csv(file.path)\n",
    "  loadDf.write.saveAsTable(tableName) #saves delta table\n",
    "  \n",
    "  print(f\"Successfully saved delta table {tableName}.\")\n",
    "  print(\"\")"
   ]
  },
  {
   "cell_type": "markdown",
   "metadata": {
    "application/vnd.databricks.v1+cell": {
     "cellMetadata": {},
     "inputWidgets": {},
     "nuid": "8c0ced7e-4c4f-4abb-ab5e-cf921d05ce5e",
     "showTitle": false,
     "title": ""
    }
   },
   "source": [
    "#Exploratory Data Analysis"
   ]
  },
  {
   "cell_type": "markdown",
   "metadata": {
    "application/vnd.databricks.v1+cell": {
     "cellMetadata": {},
     "inputWidgets": {},
     "nuid": "dd28be35-9999-4a8d-b4c3-99470397bd9e",
     "showTitle": false,
     "title": ""
    }
   },
   "source": [
    "**Train Data Analysis :**\n",
    "1) Whether the promotion increase the sales\n",
    "2) Predicting the Sales using Oil Price "
   ]
  },
  {
   "cell_type": "code",
   "execution_count": 0,
   "metadata": {
    "application/vnd.databricks.v1+cell": {
     "cellMetadata": {
      "byteLimit": 2048000,
      "rowLimit": 10000
     },
     "inputWidgets": {},
     "nuid": "7f835812-cf92-4345-b4fe-d492bd044a8e",
     "showTitle": false,
     "title": ""
    }
   },
   "outputs": [],
   "source": [
    "train_df = spark.read.format(\"delta\").table(\"bronze_train\")\n",
    "oil_df = spark.read.format(\"delta\").table(\"bronze_oil_prices\")"
   ]
  },
  {
   "cell_type": "code",
   "execution_count": 0,
   "metadata": {
    "application/vnd.databricks.v1+cell": {
     "cellMetadata": {
      "byteLimit": 2048000,
      "rowLimit": 10000
     },
     "inputWidgets": {},
     "nuid": "534bd0af-9453-4dae-9334-5a5d0e99a918",
     "showTitle": false,
     "title": ""
    }
   },
   "outputs": [],
   "source": [
    "import seaborn as sns\n",
    "import matplotlib.pyplot as plt\n",
    "pandas_df = train_df.toPandas()"
   ]
  },
  {
   "cell_type": "code",
   "execution_count": 0,
   "metadata": {
    "application/vnd.databricks.v1+cell": {
     "cellMetadata": {
      "byteLimit": 2048000,
      "rowLimit": 10000
     },
     "inputWidgets": {},
     "nuid": "cc9352da-8a30-4220-91e3-4fa9edad9667",
     "showTitle": false,
     "title": ""
    }
   },
   "outputs": [],
   "source": [
    "sns.pairplot(pandas_df)\n",
    "plt.show()"
   ]
  },
  {
   "cell_type": "code",
   "execution_count": 0,
   "metadata": {
    "application/vnd.databricks.v1+cell": {
     "cellMetadata": {
      "byteLimit": 2048000,
      "rowLimit": 10000
     },
     "inputWidgets": {},
     "nuid": "dd3e1c94-9d52-4534-add1-13c2d10fdd5b",
     "showTitle": false,
     "title": ""
    }
   },
   "outputs": [],
   "source": [
    "from pyspark.sql.functions import col\n",
    "from pyspark.sql.functions import when\n"
   ]
  },
  {
   "cell_type": "code",
   "execution_count": 0,
   "metadata": {
    "application/vnd.databricks.v1+cell": {
     "cellMetadata": {
      "byteLimit": 2048000,
      "rowLimit": 10000
     },
     "inputWidgets": {},
     "nuid": "16c622d6-f43f-4c13-b8ea-52c3ae3ed815",
     "showTitle": false,
     "title": ""
    }
   },
   "outputs": [],
   "source": [
    "\n",
    "# Convert string date column to date type\n",
    "df1 = oil_df.withColumn(\"date\", col(\"date\").cast(\"date\"))\n",
    "df2 = train_df.withColumn(\"date\", col(\"date\").cast(\"date\"))\n",
    "\n",
    "# Joining DataFrames on the 'date' column\n",
    "joined_df = df1.join(df2, on='date', how='inner')\n",
    "\n",
    "# Display the joined DataFrame\n",
    "joined_df.show()"
   ]
  },
  {
   "cell_type": "code",
   "execution_count": 0,
   "metadata": {
    "application/vnd.databricks.v1+cell": {
     "cellMetadata": {
      "byteLimit": 2048000,
      "rowLimit": 10000
     },
     "inputWidgets": {},
     "nuid": "4867d3bf-0e34-4135-8225-a50f030a3857",
     "showTitle": false,
     "title": ""
    }
   },
   "outputs": [],
   "source": [
    "# Get unique values from a column using distinct()\n",
    "unique_values = joined_df.select(\"dcoilwtico\").distinct()\n",
    "\n",
    "# Show unique values\n",
    "unique_values.show()"
   ]
  },
  {
   "cell_type": "code",
   "execution_count": 0,
   "metadata": {
    "application/vnd.databricks.v1+cell": {
     "cellMetadata": {
      "byteLimit": 2048000,
      "rowLimit": 10000
     },
     "inputWidgets": {},
     "nuid": "2915d032-d4e3-4da8-9599-612b5c1537e7",
     "showTitle": false,
     "title": ""
    }
   },
   "outputs": [],
   "source": [
    "df = joined_df.withColumn(\"dcoilwtico\", when(joined_df[\"dcoilwtico\"].isNull(), 0).otherwise(joined_df[\"dcoilwtico\"]))\n"
   ]
  },
  {
   "cell_type": "code",
   "execution_count": 0,
   "metadata": {
    "application/vnd.databricks.v1+cell": {
     "cellMetadata": {
      "byteLimit": 2048000,
      "rowLimit": 10000
     },
     "inputWidgets": {},
     "nuid": "2cfbc1e7-3f9d-4204-a595-040bb9c6c18b",
     "showTitle": false,
     "title": ""
    }
   },
   "outputs": [],
   "source": [
    "df.show()"
   ]
  },
  {
   "cell_type": "code",
   "execution_count": 0,
   "metadata": {
    "application/vnd.databricks.v1+cell": {
     "cellMetadata": {
      "byteLimit": 2048000,
      "rowLimit": 10000
     },
     "inputWidgets": {},
     "nuid": "4310dc17-a2a4-4632-8169-184585858646",
     "showTitle": false,
     "title": ""
    }
   },
   "outputs": [],
   "source": [
    "\n",
    "# Collect the data for the two columns\n",
    "data_to_plot = df.select('sales', 'dcoilwtico').collect()\n",
    "\n",
    "# Extract values for plotting\n",
    "x = [row['dcoilwtico'] for row in data_to_plot]\n",
    "y = [row['sales'] for row in data_to_plot]\n",
    "fig = plt.gcf()\n",
    "fig.set_size_inches(4, 3)\n",
    "# Plotting a scatter plot using Matplotlib\n",
    "plt.scatter(x, y)\n",
    "plt.xlabel('Oil Price')\n",
    "plt.ylabel('Sales')\n",
    "plt.title('Sales VS Oil Price')\n",
    "plt.show()"
   ]
  },
  {
   "cell_type": "code",
   "execution_count": 0,
   "metadata": {
    "application/vnd.databricks.v1+cell": {
     "cellMetadata": {
      "byteLimit": 2048000,
      "rowLimit": 10000
     },
     "inputWidgets": {},
     "nuid": "9d219e46-c3bd-4a7a-b4fc-dd9afbed8dfc",
     "showTitle": false,
     "title": ""
    }
   },
   "outputs": [],
   "source": [
    "df.describe()"
   ]
  },
  {
   "cell_type": "code",
   "execution_count": 0,
   "metadata": {
    "application/vnd.databricks.v1+cell": {
     "cellMetadata": {
      "byteLimit": 2048000,
      "rowLimit": 10000
     },
     "inputWidgets": {},
     "nuid": "89afa015-95ee-436d-8535-c3aee63a5ee4",
     "showTitle": false,
     "title": ""
    }
   },
   "outputs": [],
   "source": [
    "# Collect the data for the two columns\n",
    "data_to_plot = df.select('sales', 'onpromotion').collect()\n",
    "# Extract values for plotting\n",
    "x = [row['onpromotion'] for row in data_to_plot]\n",
    "y = [row['sales'] for row in data_to_plot]\n",
    "# Plotting a scatter plot using Matplotlib\n",
    "fig = plt.gcf()\n",
    "fig.set_size_inches(4, 3)\n",
    "plt.scatter(x, y)\n",
    "plt.xlabel('onpromotion')\n",
    "plt.ylabel('sales')\n",
    "plt.title('Sales VS OnPromotion')\n",
    "plt.show()"
   ]
  }
 ],
 "metadata": {
  "application/vnd.databricks.v1+notebook": {
   "dashboards": [],
   "language": "python",
   "notebookMetadata": {
    "mostRecentlyExecutedCommandWithImplicitDF": {
     "commandId": 335474364398379,
     "dataframes": [
      "_sqldf"
     ]
    },
    "pythonIndentUnit": 2
   },
   "notebookName": "Bronze Layer and EDA",
   "widgets": {
    "store_numb": {
     "currentValue": "6",
     "nuid": "5581730f-2c17-47c2-96ec-440df640db50",
     "widgetInfo": {
      "widgetType": "dropdown",
      "defaultValue": "1",
      "label": null,
      "name": "store_numb",
      "options": {
       "widgetType": "dropdown",
       "autoCreated": null,
       "choices": [
        "1",
        "2",
        "3",
        "4",
        "5",
        "6",
        "7",
        "8",
        "9",
        "10",
        "11",
        "12",
        "13",
        "14",
        "15",
        "16",
        "17",
        "18",
        "19",
        "20",
        "21",
        "22",
        "23",
        "24",
        "25",
        "26",
        "27",
        "28",
        "29",
        "30",
        "31",
        "32",
        "33",
        "34",
        "35",
        "36",
        "37",
        "38",
        "39",
        "40",
        "41",
        "42",
        "43",
        "44",
        "45",
        "46",
        "47",
        "48",
        "49",
        "50",
        "51",
        "52",
        "53",
        "54"
       ]
      }
     }
    }
   }
  }
 },
 "nbformat": 4,
 "nbformat_minor": 0
}
