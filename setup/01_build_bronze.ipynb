{
 "cells": [
  {
   "cell_type": "markdown",
   "metadata": {
    "application/vnd.databricks.v1+cell": {
     "cellMetadata": {},
     "inputWidgets": {},
     "nuid": "71a9195e-0308-46c0-8060-879c82e6a852",
     "showTitle": false,
     "title": ""
    }
   },
   "source": [
    "# Build the Database"
   ]
  },
  {
   "cell_type": "code",
   "execution_count": 0,
   "metadata": {
    "application/vnd.databricks.v1+cell": {
     "cellMetadata": {
      "byteLimit": 2048000,
      "rowLimit": 10000
     },
     "inputWidgets": {},
     "nuid": "e8996c93-24a4-4047-a39d-a04109e93a17",
     "showTitle": true,
     "title": "Rebuild the database"
    }
   },
   "outputs": [],
   "source": [
    "import re\n",
    "userName = spark.sql(\"SELECT CURRENT_USER\").collect()[0]['current_user()']\n",
    "userName0 = userName.split(\"@\")[0]\n",
    "userName0 = re.sub('[!#$%&\\'*+-/=?^`{}|\\.]+', '_', userName0)\n",
    "userName1 = userName.split(\"@\")[1]\n",
    "userName = f'{userName0}@{userName1}'\n",
    "dbutils.fs.mkdirs(f\"/Users/{userName}/data\")\n",
    "userDir = f\"/Users/{userName}/data\"\n",
    "databaseName = f\"{userName0}_FinalProject_01\"\n",
    "\n",
    "print('databaseName ' + databaseName)\n",
    "print('UserDir ' + userDir)\n",
    "\n",
    "spark.sql(f\"DROP DATABASE IF EXISTS {databaseName} CASCADE\")\n",
    "spark.sql(f\"CREATE DATABASE {databaseName}\")\n",
    "spark.sql(f\"use {databaseName}\")\n",
    "\n",
    "print (f\"Database {databaseName} successfully rebuilt.\")"
   ]
  },
  {
   "cell_type": "code",
   "execution_count": 0,
   "metadata": {
    "application/vnd.databricks.v1+cell": {
     "cellMetadata": {
      "byteLimit": 2048000,
      "rowLimit": 10000
     },
     "inputWidgets": {},
     "nuid": "d9cc1710-9d84-4d17-9932-fbdc0821a62a",
     "showTitle": false,
     "title": ""
    }
   },
   "outputs": [],
   "source": [
    "%fs ls /mnt/data/2023-kaggle-final/store-sales/"
   ]
  },
  {
   "cell_type": "markdown",
   "metadata": {
    "application/vnd.databricks.v1+cell": {
     "cellMetadata": {},
     "inputWidgets": {},
     "nuid": "a72c5def-7c2b-4086-9287-7f4dd47a1551",
     "showTitle": false,
     "title": ""
    }
   },
   "source": [
    "## Initial Bronze Tables"
   ]
  },
  {
   "cell_type": "code",
   "execution_count": 0,
   "metadata": {
    "application/vnd.databricks.v1+cell": {
     "cellMetadata": {
      "byteLimit": 2048000,
      "rowLimit": 10000
     },
     "inputWidgets": {},
     "nuid": "c9aa7271-5539-4e39-88de-68eee3680b28",
     "showTitle": true,
     "title": "Load Bronze Tables"
    }
   },
   "outputs": [],
   "source": [
    "rootPath = \"dbfs:/mnt/data/2023-kaggle-final/store-sales/\"\n",
    "\n",
    "for file in dbutils.fs.ls(rootPath):\n",
    "  tableName = \"bronze_\" + file.name.replace('.csv', '')\n",
    "  print (f\"processing file {file.name} into table name {tableName}...\")\n",
    "\n",
    "  loadDf = spark.read.option(\"header\", True).option(\"inferSchema\", True).csv(file.path)\n",
    "  loadDf.write.saveAsTable(tableName) #saves delta table\n",
    "  \n",
    "  print(f\"Successfully saved delta table {tableName}.\")\n",
    "  print(\"\")\n"
   ]
  },
  {
   "cell_type": "markdown",
   "metadata": {
    "application/vnd.databricks.v1+cell": {
     "cellMetadata": {},
     "inputWidgets": {},
     "nuid": "d1dc7095-9386-4718-b400-d1cc1f04d0a8",
     "showTitle": false,
     "title": ""
    }
   },
   "source": [
    "# Add DQ Constraints after table creation"
   ]
  },
  {
   "cell_type": "markdown",
   "metadata": {
    "application/vnd.databricks.v1+cell": {
     "cellMetadata": {},
     "inputWidgets": {},
     "nuid": "c051b178-f2d5-496e-b511-973586321997",
     "showTitle": false,
     "title": ""
    }
   },
   "source": [
    "## bronze_holidays_events\n",
    "* added not Null constraint\n",
    "* added a CHECK to ensure date ranges are after expected value"
   ]
  },
  {
   "cell_type": "code",
   "execution_count": 0,
   "metadata": {
    "application/vnd.databricks.v1+cell": {
     "cellMetadata": {
      "byteLimit": 2048000,
      "implicitDf": true,
      "rowLimit": 10000
     },
     "inputWidgets": {},
     "nuid": "1d11b567-8a01-43d4-9de4-20da6baff3e3",
     "showTitle": false,
     "title": ""
    }
   },
   "outputs": [],
   "source": [
    "%sql\n",
    "ALTER TABLE bronze_holidays_events ALTER COLUMN `type` SET NOT NULL;"
   ]
  },
  {
   "cell_type": "code",
   "execution_count": 0,
   "metadata": {
    "application/vnd.databricks.v1+cell": {
     "cellMetadata": {
      "byteLimit": 2048000,
      "implicitDf": true,
      "rowLimit": 10000
     },
     "inputWidgets": {},
     "nuid": "77e9149f-34c6-41bc-87df-f31d33a17e6e",
     "showTitle": false,
     "title": ""
    }
   },
   "outputs": [],
   "source": [
    "%sql\n",
    "ALTER TABLE bronze_holidays_events ADD CONSTRAINT dateWithinRange CHECK (`date` >= '2012-03-02')"
   ]
  },
  {
   "cell_type": "code",
   "execution_count": 0,
   "metadata": {
    "application/vnd.databricks.v1+cell": {
     "cellMetadata": {
      "byteLimit": 2048000,
      "implicitDf": true,
      "rowLimit": 10000
     },
     "inputWidgets": {},
     "nuid": "ff3a98c7-18e3-4520-9965-5992553e1d93",
     "showTitle": false,
     "title": ""
    }
   },
   "outputs": [],
   "source": [
    "%sql\n",
    "DESC HISTORY bronze_holidays_events"
   ]
  },
  {
   "cell_type": "markdown",
   "metadata": {
    "application/vnd.databricks.v1+cell": {
     "cellMetadata": {},
     "inputWidgets": {},
     "nuid": "698fd68e-4492-4b4d-9ab5-aa7d6e6e6889",
     "showTitle": false,
     "title": ""
    }
   },
   "source": [
    "## bronze_oil\n",
    "* date field is NOT NULL and after a range"
   ]
  },
  {
   "cell_type": "code",
   "execution_count": 0,
   "metadata": {
    "application/vnd.databricks.v1+cell": {
     "cellMetadata": {
      "byteLimit": 2048000,
      "implicitDf": true,
      "rowLimit": 10000
     },
     "inputWidgets": {},
     "nuid": "27965e84-0958-4a4c-8bcc-37145d6039a8",
     "showTitle": false,
     "title": ""
    }
   },
   "outputs": [],
   "source": [
    "%sql\n",
    "ALTER TABLE bronze_oil ADD CONSTRAINT dateWithinRange CHECK (`date` >= '2012-03-02');\n",
    "ALTER TABLE bronze_oil ALTER COLUMN `date` SET NOT NULL;"
   ]
  },
  {
   "cell_type": "code",
   "execution_count": 0,
   "metadata": {
    "application/vnd.databricks.v1+cell": {
     "cellMetadata": {
      "byteLimit": 2048000,
      "implicitDf": true,
      "rowLimit": 10000
     },
     "inputWidgets": {},
     "nuid": "536edf87-d83f-4826-9f57-bcf097ee7fb5",
     "showTitle": false,
     "title": ""
    }
   },
   "outputs": [],
   "source": [
    "%sql\n",
    "DESC HISTORY bronze_oil"
   ]
  },
  {
   "cell_type": "markdown",
   "metadata": {
    "application/vnd.databricks.v1+cell": {
     "cellMetadata": {},
     "inputWidgets": {},
     "nuid": "e56d6dab-fa49-41a8-9544-c163bfda78fe",
     "showTitle": false,
     "title": ""
    }
   },
   "source": [
    "## bronze_store\n",
    "* store_nbr should be greater than 1, cannot be negative\n",
    "* type should be a list of A, B , C, D, E"
   ]
  },
  {
   "cell_type": "code",
   "execution_count": 0,
   "metadata": {
    "application/vnd.databricks.v1+cell": {
     "cellMetadata": {
      "byteLimit": 2048000,
      "implicitDf": true,
      "rowLimit": 10000
     },
     "inputWidgets": {},
     "nuid": "a8d5183f-7e98-435f-8c09-986be65fdd41",
     "showTitle": false,
     "title": ""
    }
   },
   "outputs": [],
   "source": [
    "%sql\n",
    "ALTER TABLE bronze_stores ADD CONSTRAINT validIds CHECK(store_nbr>=1) "
   ]
  },
  {
   "cell_type": "code",
   "execution_count": 0,
   "metadata": {
    "application/vnd.databricks.v1+cell": {
     "cellMetadata": {
      "byteLimit": 2048000,
      "implicitDf": true,
      "rowLimit": 10000
     },
     "inputWidgets": {},
     "nuid": "38231b08-cc5a-46fd-99cd-29b03d49497e",
     "showTitle": false,
     "title": ""
    }
   },
   "outputs": [],
   "source": [
    "%sql\n",
    "ALTER TABLE bronze_stores ADD CONSTRAINT validType CHECK(`type` IN (\"A\",\"B\",\"C\",\"D\",\"E\"))"
   ]
  },
  {
   "cell_type": "code",
   "execution_count": 0,
   "metadata": {
    "application/vnd.databricks.v1+cell": {
     "cellMetadata": {
      "byteLimit": 2048000,
      "implicitDf": true,
      "rowLimit": 10000
     },
     "inputWidgets": {},
     "nuid": "236cb0dd-1631-40e2-ac2c-70182d3d68c5",
     "showTitle": false,
     "title": ""
    }
   },
   "outputs": [],
   "source": [
    "%sql\n",
    "DESC HISTORY bronze_stores"
   ]
  },
  {
   "cell_type": "code",
   "execution_count": 0,
   "metadata": {
    "application/vnd.databricks.v1+cell": {
     "cellMetadata": {},
     "inputWidgets": {},
     "nuid": "0063da0e-ea4e-4d32-b92b-8ddd7d216d8a",
     "showTitle": false,
     "title": ""
    }
   },
   "outputs": [],
   "source": []
  }
 ],
 "metadata": {
  "application/vnd.databricks.v1+notebook": {
   "dashboards": [],
   "language": "python",
   "notebookMetadata": {
    "mostRecentlyExecutedCommandWithImplicitDF": {
     "commandId": 2509332356160526,
     "dataframes": [
      "_sqldf"
     ]
    },
    "pythonIndentUnit": 2
   },
   "notebookName": "01_build_bronze",
   "widgets": {}
  }
 },
 "nbformat": 4,
 "nbformat_minor": 0
}
